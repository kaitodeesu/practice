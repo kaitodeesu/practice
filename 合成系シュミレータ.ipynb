{
 "cells": [
  {
   "cell_type": "markdown",
   "id": "impaired-dayton",
   "metadata": {},
   "source": [
    "## POVM測定(単一系)"
   ]
  },
  {
   "cell_type": "code",
   "execution_count": 78,
   "id": "regulated-helen",
   "metadata": {},
   "outputs": [
    {
     "name": "stdout",
     "output_type": "stream",
     "text": [
      "[[0.65407263+0.44830345j]\n",
      " [0.46847293+0.38954604j]]\n",
      "[[0.65407263-0.44830345j]\n",
      " [0.46847293-0.38954604j]]\n",
      "状態ベクトルは\n",
      "[0.65407263+0.44830345j 0.46847293+0.38954604j]\n",
      "[[0.62878699+0.j         0.48105016+0.04477337j]\n",
      " [0.48105016-0.04477337j 0.37121301+0.j        ]]\n"
     ]
    }
   ],
   "source": [
    "import numpy as np\n",
    "import random\n",
    "\n",
    "#次元、系の数\n",
    "d=2\n",
    "n=2\n",
    "\n",
    "#d次元の正規直行基底作成\n",
    "ONB=[]\n",
    "for i in range(d):\n",
    "    ONB.append(np.random.rand()+1j*np.random.rand())\n",
    "    \n",
    "ONB=np.array(ONB)   \n",
    "ONB=ONB/np.linalg.norm(ONB)\n",
    "#ONB=np.linalg.qr(ONB)\n",
    "#print(ONB)\n",
    "\n",
    "\n",
    "#ランダムにd次元分の密度演算子を作る。\n",
    "#まずは純粋状態の密度演算子ρ1を作る\n",
    "S=[]\n",
    "for i in range(d):\n",
    "    S.append(np.random.rand()+1j*np.random.rand())\n",
    "\n",
    "S=np.array(S)\n",
    "S=S/np.linalg.norm(S)\n",
    "S1=np.reshape(S,(1,d))\n",
    "ST=S1.T\n",
    "SC=ST.conjugate()\n",
    "print(ST)\n",
    "print(SC)\n",
    "print(\"状態ベクトルは\")\n",
    "print(S)\n",
    "rho1=SC*S\n",
    "print(rho1)\n",
    "\n"
   ]
  },
  {
   "cell_type": "code",
   "execution_count": null,
   "id": "given-delight",
   "metadata": {},
   "outputs": [],
   "source": []
  }
 ],
 "metadata": {
  "kernelspec": {
   "display_name": "Python 3",
   "language": "python",
   "name": "python3"
  },
  "language_info": {
   "codemirror_mode": {
    "name": "ipython",
    "version": 3
   },
   "file_extension": ".py",
   "mimetype": "text/x-python",
   "name": "python",
   "nbconvert_exporter": "python",
   "pygments_lexer": "ipython3",
   "version": "3.9.2"
  }
 },
 "nbformat": 4,
 "nbformat_minor": 5
}
